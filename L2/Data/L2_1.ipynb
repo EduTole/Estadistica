{
 "cells": [
  {
   "cell_type": "markdown",
   "id": "764c2977-b087-461b-8852-b57a91e68dfe",
   "metadata": {},
   "source": [
    "<center style=\"font-size: 2em; font-weight: bold;\"> Estadistica para Economístas </center>\n",
    "<center style=\"font-size: 2em; font-weight: bold;\"> Semana 2: medidas de tendencia, dispersión y corrleación </center>\n"
   ]
  },
  {
   "cell_type": "markdown",
   "id": "0b9e4b16-1c51-402d-bc2d-b157edca921b",
   "metadata": {},
   "source": [
    "# Librerias"
   ]
  },
  {
   "cell_type": "code",
   "execution_count": 1,
   "id": "6a78340e-ceaa-4dce-8acb-bed1d31e195f",
   "metadata": {},
   "outputs": [],
   "source": [
    "import pandas\n",
    "import os\n",
    "import numpy\n",
    "import seaborn"
   ]
  },
  {
   "cell_type": "markdown",
   "id": "65d30158-1cdd-4a2f-b468-0e4573ce50b2",
   "metadata": {},
   "source": [
    "# Carga de data"
   ]
  },
  {
   "cell_type": "code",
   "execution_count": 2,
   "id": "db10fa44-2e39-4bd0-bfae-582f10a12590",
   "metadata": {},
   "outputs": [
    {
     "data": {
      "text/plain": [
       "'D:/Dropbox/Docencia/UPN/Estadistica/S2/Data\\\\BD_2.xlsx'"
      ]
     },
     "execution_count": 2,
     "metadata": {},
     "output_type": "execute_result"
    }
   ],
   "source": [
    "ruta = \"D:/Dropbox/Docencia/UPN/Estadistica/S2/Data\"\n",
    "os.path.join(ruta,\"BD_2.xlsx\")"
   ]
  },
  {
   "cell_type": "code",
   "execution_count": 3,
   "id": "5a8a61e5-d0f3-465f-9aff-995a65f5848c",
   "metadata": {},
   "outputs": [
    {
     "data": {
      "text/plain": [
       "(28147, 6)"
      ]
     },
     "execution_count": 3,
     "metadata": {},
     "output_type": "execute_result"
    }
   ],
   "source": [
    "data = pandas.read_excel(os.path.join(ruta,\"BD_2.xlsx\"))\n",
    "data.shape"
   ]
  },
  {
   "cell_type": "markdown",
   "id": "db8dc9bf-29a1-472c-952a-1277de5fc4be",
   "metadata": {},
   "source": [
    "Describiendo la informacion de los primeros 5 observaciones"
   ]
  },
  {
   "cell_type": "code",
   "execution_count": 4,
   "id": "1876c5b9-718d-4096-afda-06c0836b9340",
   "metadata": {},
   "outputs": [
    {
     "data": {
      "text/html": [
       "<div>\n",
       "<style scoped>\n",
       "    .dataframe tbody tr th:only-of-type {\n",
       "        vertical-align: middle;\n",
       "    }\n",
       "\n",
       "    .dataframe tbody tr th {\n",
       "        vertical-align: top;\n",
       "    }\n",
       "\n",
       "    .dataframe thead th {\n",
       "        text-align: right;\n",
       "    }\n",
       "</style>\n",
       "<table border=\"1\" class=\"dataframe\">\n",
       "  <thead>\n",
       "    <tr style=\"text-align: right;\">\n",
       "      <th></th>\n",
       "      <th>rpersona</th>\n",
       "      <th>rArea</th>\n",
       "      <th>rDpto</th>\n",
       "      <th>reduca_niv</th>\n",
       "      <th>r6</th>\n",
       "      <th>rmujer</th>\n",
       "    </tr>\n",
       "  </thead>\n",
       "  <tbody>\n",
       "    <tr>\n",
       "      <th>0</th>\n",
       "      <td>50070031101</td>\n",
       "      <td>Urbano</td>\n",
       "      <td>Amazonas</td>\n",
       "      <td>Superior universitaria</td>\n",
       "      <td>6433.593750</td>\n",
       "      <td>Hombre</td>\n",
       "    </tr>\n",
       "    <tr>\n",
       "      <th>1</th>\n",
       "      <td>50070121101</td>\n",
       "      <td>Urbano</td>\n",
       "      <td>Amazonas</td>\n",
       "      <td>Secundaria</td>\n",
       "      <td>1062.165894</td>\n",
       "      <td>Mujer</td>\n",
       "    </tr>\n",
       "    <tr>\n",
       "      <th>2</th>\n",
       "      <td>50070221101</td>\n",
       "      <td>Urbano</td>\n",
       "      <td>Amazonas</td>\n",
       "      <td>Superior universitaria</td>\n",
       "      <td>2224.665283</td>\n",
       "      <td>Hombre</td>\n",
       "    </tr>\n",
       "    <tr>\n",
       "      <th>3</th>\n",
       "      <td>50090411101</td>\n",
       "      <td>Urbano</td>\n",
       "      <td>Amazonas</td>\n",
       "      <td>Elemental</td>\n",
       "      <td>397.583344</td>\n",
       "      <td>Mujer</td>\n",
       "    </tr>\n",
       "    <tr>\n",
       "      <th>4</th>\n",
       "      <td>50091261101</td>\n",
       "      <td>Urbano</td>\n",
       "      <td>Amazonas</td>\n",
       "      <td>Secundaria</td>\n",
       "      <td>5580.133301</td>\n",
       "      <td>Hombre</td>\n",
       "    </tr>\n",
       "  </tbody>\n",
       "</table>\n",
       "</div>"
      ],
      "text/plain": [
       "      rpersona   rArea     rDpto              reduca_niv           r6  rmujer\n",
       "0  50070031101  Urbano  Amazonas  Superior universitaria  6433.593750  Hombre\n",
       "1  50070121101  Urbano  Amazonas              Secundaria  1062.165894   Mujer\n",
       "2  50070221101  Urbano  Amazonas  Superior universitaria  2224.665283  Hombre\n",
       "3  50090411101  Urbano  Amazonas               Elemental   397.583344   Mujer\n",
       "4  50091261101  Urbano  Amazonas              Secundaria  5580.133301  Hombre"
      ]
     },
     "execution_count": 4,
     "metadata": {},
     "output_type": "execute_result"
    }
   ],
   "source": [
    "data.head(5)"
   ]
  },
  {
   "cell_type": "markdown",
   "id": "8b977966-0c7a-4cfc-8d46-0eee6fd46e06",
   "metadata": {},
   "source": [
    "Describir que tipo de informacion es cada variable"
   ]
  },
  {
   "cell_type": "code",
   "execution_count": 5,
   "id": "f46fed22-ac93-4234-ade6-7d79533e2254",
   "metadata": {},
   "outputs": [
    {
     "name": "stdout",
     "output_type": "stream",
     "text": [
      "<class 'pandas.core.frame.DataFrame'>\n",
      "RangeIndex: 28147 entries, 0 to 28146\n",
      "Data columns (total 6 columns):\n",
      " #   Column      Non-Null Count  Dtype  \n",
      "---  ------      --------------  -----  \n",
      " 0   rpersona    28147 non-null  int64  \n",
      " 1   rArea       28147 non-null  object \n",
      " 2   rDpto       28147 non-null  object \n",
      " 3   reduca_niv  28144 non-null  object \n",
      " 4   r6          28147 non-null  float64\n",
      " 5   rmujer      28147 non-null  object \n",
      "dtypes: float64(1), int64(1), object(4)\n",
      "memory usage: 1.3+ MB\n"
     ]
    }
   ],
   "source": [
    "data.info()"
   ]
  },
  {
   "cell_type": "markdown",
   "id": "325c4983-05f7-4b55-83a7-ac3ad0ff7657",
   "metadata": {},
   "source": [
    "# Medidas de tendencia central"
   ]
  },
  {
   "cell_type": "markdown",
   "id": "5ed2dd9c-c55a-4c8c-97fa-50c6c7357836",
   "metadata": {},
   "source": [
    "- Para las medidas de tendencia central y mas adeltante las medidas de dispoersión, utilizarmeos las medidas estadisticas como: **promedio**, **mediana**, **dispersión**, entre otros\n",
    "- El comando que nos permitira realizar ello sera:\n",
    "    - Promedio y medidana : **mean**, **median**\n",
    "    - El agrupamiento: **groupby**"
   ]
  },
  {
   "cell_type": "markdown",
   "id": "6882cb8c-ea0e-4280-b8f9-13dac221e546",
   "metadata": {},
   "source": [
    "## Promedio"
   ]
  },
  {
   "cell_type": "markdown",
   "id": "64ec7708-341c-4b9f-a234-4de20c4a2753",
   "metadata": {},
   "source": [
    "Describiendo el ingreso promedio por area"
   ]
  },
  {
   "cell_type": "code",
   "execution_count": 6,
   "id": "5ae915c1-a96d-4471-99e4-14d3ed6f718a",
   "metadata": {},
   "outputs": [
    {
     "data": {
      "text/plain": [
       "rArea\n",
       "Rural      828.645288\n",
       "Urbano    1662.929682\n",
       "Name: r6, dtype: float64"
      ]
     },
     "execution_count": 6,
     "metadata": {},
     "output_type": "execute_result"
    }
   ],
   "source": [
    "data.groupby(['rArea'])['r6'].mean()"
   ]
  },
  {
   "cell_type": "markdown",
   "id": "53613ba1-e711-461a-855e-f2c88b1fa825",
   "metadata": {},
   "source": [
    "Describiendo el ingreso promedio por mujer y hombre"
   ]
  },
  {
   "cell_type": "code",
   "execution_count": 7,
   "id": "021a9338-c08e-4a22-b148-d428f19fe46a",
   "metadata": {},
   "outputs": [
    {
     "data": {
      "text/plain": [
       "rmujer\n",
       "Hombre    1462.265161\n",
       "Mujer     1016.872146\n",
       "Name: r6, dtype: float64"
      ]
     },
     "execution_count": 7,
     "metadata": {},
     "output_type": "execute_result"
    }
   ],
   "source": [
    "data.groupby(['rmujer'])['r6'].mean()"
   ]
  },
  {
   "cell_type": "markdown",
   "id": "193aca44-b9dd-4c1f-a5a6-12d530c68353",
   "metadata": {},
   "source": [
    "Describiendo el ingreso promedio por departamento"
   ]
  },
  {
   "cell_type": "code",
   "execution_count": 8,
   "id": "8e60e080-5cc9-4c09-830e-197fa0cb891c",
   "metadata": {},
   "outputs": [
    {
     "data": {
      "text/plain": [
       "rDpto\n",
       "Amazonas                 1091.770178\n",
       "Apurímac                 1095.351463\n",
       "Arequipa                 1701.090343\n",
       "Ayacucho                 1010.462182\n",
       "Cajamarca                 981.746473\n",
       "Cusco                    1030.309517\n",
       "Huancavelica              725.480686\n",
       "Huánuco                  1031.258277\n",
       "Ica                      1714.827594\n",
       "Junín                    1169.230231\n",
       "La Libertad              1570.114652\n",
       "Lambayeque               1436.902418\n",
       "Lima                     1814.115850\n",
       "Loreto                   1197.873660\n",
       "Madre de Dios            1764.753914\n",
       "Moquegua                 1861.424463\n",
       "Pasco                    1072.930425\n",
       "Piura                    1378.480112\n",
       "Prov Const del Callao    1582.568286\n",
       "Puno                      720.968657\n",
       "San Martín               1390.841136\n",
       "Tacna                    1366.646365\n",
       "Tumbes                   1376.498040\n",
       "Ucayali                  1322.244458\n",
       "Áncash                   1181.682070\n",
       "Name: r6, dtype: float64"
      ]
     },
     "execution_count": 8,
     "metadata": {},
     "output_type": "execute_result"
    }
   ],
   "source": [
    "data.groupby(['rDpto'])['r6'].mean()"
   ]
  },
  {
   "cell_type": "markdown",
   "id": "bb94694c-3f3c-45e9-b461-5b38e3073186",
   "metadata": {},
   "source": [
    "## Mediana"
   ]
  },
  {
   "cell_type": "markdown",
   "id": "c29de4ee-0fa2-4c80-a8a6-b4366e16248b",
   "metadata": {},
   "source": [
    "Describiendo la **mediana** del ingreso según area"
   ]
  },
  {
   "cell_type": "code",
   "execution_count": 9,
   "id": "1f5e2520-33b6-450b-ab69-64a26d5d6134",
   "metadata": {},
   "outputs": [
    {
     "data": {
      "text/plain": [
       "rArea\n",
       "Rural      565.547546\n",
       "Urbano    1162.078918\n",
       "Name: r6, dtype: float64"
      ]
     },
     "execution_count": 9,
     "metadata": {},
     "output_type": "execute_result"
    }
   ],
   "source": [
    "data.groupby(['rArea'])['r6'].median()"
   ]
  },
  {
   "cell_type": "markdown",
   "id": "4cfc25e7-ed7c-46f2-8932-4f5dc6f6903e",
   "metadata": {},
   "source": [
    "## Percentile"
   ]
  },
  {
   "cell_type": "markdown",
   "id": "ee793455-b84d-4888-8a48-289ad01d38be",
   "metadata": {},
   "source": [
    "- Analisis del percentil 10, 25, 50 y 75"
   ]
  },
  {
   "cell_type": "code",
   "execution_count": 10,
   "id": "83e2c764-f8a7-4976-ae1e-86f8fa559b3b",
   "metadata": {},
   "outputs": [
    {
     "data": {
      "text/plain": [
       "160.7166687011719"
      ]
     },
     "execution_count": 10,
     "metadata": {},
     "output_type": "execute_result"
    }
   ],
   "source": [
    "numpy.percentile(data['r6'],10)"
   ]
  },
  {
   "cell_type": "code",
   "execution_count": 11,
   "id": "12260f35-876e-44ce-8443-2a9caf1a1f72",
   "metadata": {},
   "outputs": [
    {
     "name": "stdout",
     "output_type": "stream",
     "text": [
      "percentile 25: 402.2916717529297\n",
      "percentile 50: 890.9166870117188\n",
      "percentile 75: 1612.3333740234375\n"
     ]
    }
   ],
   "source": [
    "# Print each percentile \n",
    "print(\"percentile 25:\", numpy.percentile(data['r6'],25))\n",
    "print('percentile 50:', numpy.percentile(data['r6'],50))\n",
    "print('percentile 75:' , numpy.percentile(data['r6'],75))"
   ]
  },
  {
   "cell_type": "markdown",
   "id": "da0b7c3d-6710-4404-abf6-163ce5e01970",
   "metadata": {},
   "source": [
    "## Graficos"
   ]
  },
  {
   "cell_type": "markdown",
   "id": "0ca052a3-e425-42d0-ae9e-a744db1f32f1",
   "metadata": {},
   "source": [
    "- Para los graficos realizaremos la libreria de **seaborn**, que permitira realizar de manera mas rapida los graficos de tendencia central y dispersión analizados\n",
    "- Los comandos seran:\n",
    "    - **histplot**\n",
    "    - **catplot**"
   ]
  },
  {
   "cell_type": "markdown",
   "id": "9b6c8c49-bda9-4351-adce-1ae77226fd4b",
   "metadata": {},
   "source": [
    "### Grafico de Histograma"
   ]
  },
  {
   "cell_type": "markdown",
   "id": "1dc8910a-a95b-48f3-a66d-dfba85fcb1fb",
   "metadata": {},
   "source": [
    "Histograma de la variable ingreso"
   ]
  },
  {
   "cell_type": "code",
   "execution_count": 12,
   "id": "2622ada5-10c2-423d-9443-8c0a68cfd41c",
   "metadata": {},
   "outputs": [
    {
     "data": {
      "text/plain": [
       "<AxesSubplot: xlabel='r6', ylabel='Count'>"
      ]
     },
     "execution_count": 12,
     "metadata": {},
     "output_type": "execute_result"
    },
    {
     "data": {
      "image/png": "[encoded data removed]",
      "text/plain": [
       "<Figure size 640x480 with 1 Axes>"
      ]
     },
     "metadata": {},
     "output_type": "display_data"
    }
   ],
   "source": [
    "seaborn.histplot(data, x='r6', bins=30)"
   ]
  },
  {
   "cell_type": "markdown",
   "id": "fe4a4733-bb15-4e24-ab0a-5f19b49b24c8",
   "metadata": {},
   "source": [
    "Histograma de la variable ingresos según el tipo de sexo (mujer vs hombre)"
   ]
  },
  {
   "cell_type": "code",
   "execution_count": 13,
   "id": "9f7fea34-847a-4425-afa1-c027373f70e6",
   "metadata": {},
   "outputs": [
    {
     "data": {
      "text/plain": [
       "<AxesSubplot: xlabel='r6', ylabel='Count'>"
      ]
     },
     "execution_count": 13,
     "metadata": {},
     "output_type": "execute_result"
    },
    {
     "data": {
      "image/png": "[encoded data removed]",
      "text/plain": [
       "<Figure size 640x480 with 1 Axes>"
      ]
     },
     "metadata": {},
     "output_type": "display_data"
    }
   ],
   "source": [
    "seaborn.histplot(data, x='r6',hue=\"rmujer\", bins=80)"
   ]
  },
  {
   "cell_type": "code",
   "execution_count": 14,
   "id": "92b0a017-7199-4381-8f30-e0789b4300ab",
   "metadata": {},
   "outputs": [
    {
     "name": "stderr",
     "output_type": "stream",
     "text": [
      "C:\\Users\\edinson\\.conda\\envs\\python_3_10\\lib\\site-packages\\pandas\\core\\arraylike.py:402: RuntimeWarning: divide by zero encountered in log\n",
      "  result = getattr(ufunc, method)(*inputs, **kwargs)\n"
     ]
    },
    {
     "data": {
      "text/plain": [
       "<AxesSubplot: xlabel='lnr6', ylabel='Count'>"
      ]
     },
     "execution_count": 14,
     "metadata": {},
     "output_type": "execute_result"
    },
    {
     "data": {
      "image/png": "[encoded data removed]",
      "text/plain": [
       "<Figure size 640x480 with 1 Axes>"
      ]
     },
     "metadata": {},
     "output_type": "display_data"
    }
   ],
   "source": [
    "# Logatirmo del Ingreso\n",
    "data['lnr6'] = numpy.log(data['r6'])\n",
    "seaborn.histplot(data, x='lnr6',hue=\"rmujer\", bins=30)"
   ]
  },
  {
   "cell_type": "markdown",
   "id": "fe1dad27-12f5-45bf-b5dd-f94053252955",
   "metadata": {},
   "source": [
    "### Grafico de Caja"
   ]
  },
  {
   "cell_type": "markdown",
   "id": "e8724c60-09c6-41b1-ba2f-02ab40bb968f",
   "metadata": {},
   "source": [
    "Para poder realizar un grafico de caja, utilizaremos el comando:\n",
    "- catplot: permite realizar una serie de graficos para variables categoricas"
   ]
  },
  {
   "cell_type": "code",
   "execution_count": 15,
   "id": "35797737-e925-41aa-b732-e56a31706ff2",
   "metadata": {},
   "outputs": [
    {
     "data": {
      "text/plain": [
       "<seaborn.axisgrid.FacetGrid at 0x2d87e609d50>"
      ]
     },
     "execution_count": 15,
     "metadata": {},
     "output_type": "execute_result"
    },
    {
     "data": {
      "image/png": "[encoded data removed]",
      "text/plain": [
       "<Figure size 500x500 with 1 Axes>"
      ]
     },
     "metadata": {},
     "output_type": "display_data"
    }
   ],
   "source": [
    "seaborn.catplot(data, x=\"rmujer\",y=\"r6\", kind=\"box\")"
   ]
  },
  {
   "cell_type": "markdown",
   "id": "a58e7ce0-16e0-459c-8b30-082d0e1f74c6",
   "metadata": {},
   "source": [
    "- Removemos los outliers , o tambien conocidos como datos atipicos"
   ]
  },
  {
   "cell_type": "code",
   "execution_count": 16,
   "id": "96f91fa9-d478-4c96-b74e-2c57441e061c",
   "metadata": {},
   "outputs": [
    {
     "data": {
      "text/plain": [
       "<seaborn.axisgrid.FacetGrid at 0x2d87e609d80>"
      ]
     },
     "execution_count": 16,
     "metadata": {},
     "output_type": "execute_result"
    },
    {
     "data": {
      "image/png": "[encoded data removed]",
      "text/plain": [
       "<Figure size 500x500 with 1 Axes>"
      ]
     },
     "metadata": {},
     "output_type": "display_data"
    }
   ],
   "source": [
    "seaborn.catplot(data, x=\"rmujer\",y=\"r6\", kind=\"box\", showfliers=False)"
   ]
  },
  {
   "cell_type": "markdown",
   "id": "e5e5759e-3d08-4b00-8424-2a7ac8d12ac6",
   "metadata": {},
   "source": [
    "- Realizar el grafico de caja de los ingresos según nivel educativo\n",
    "- Para ello debemos especificar en el comando saborn que la variable x debe ser numerica y la variable y debe ser la categorica"
   ]
  },
  {
   "cell_type": "code",
   "execution_count": 17,
   "id": "558ac1d1-1212-48d6-9b06-4f707b7ee954",
   "metadata": {},
   "outputs": [
    {
     "data": {
      "text/plain": [
       "<seaborn.axisgrid.FacetGrid at 0x2d87e609c30>"
      ]
     },
     "execution_count": 17,
     "metadata": {},
     "output_type": "execute_result"
    },
    {
     "data": {
      "image/png": "[encoded data removed]",
      "text/plain": [
       "<Figure size 500x500 with 1 Axes>"
      ]
     },
     "metadata": {},
     "output_type": "display_data"
    }
   ],
   "source": [
    "seaborn.catplot(data, orient=\"h\", x=\"r6\",y=\"reduca_niv\", kind=\"box\",  showfliers=False)\n"
   ]
  },
  {
   "cell_type": "markdown",
   "id": "e811511f-b830-45a4-8b08-2bbfa4cd0ec3",
   "metadata": {},
   "source": [
    "# Medidas de Dispersión"
   ]
  },
  {
   "cell_type": "markdown",
   "id": "cfcfdd5d-c87f-40be-b38e-3b7f3d4ffe4c",
   "metadata": {},
   "source": [
    "Dentro de las medidas de dispersión tenemos los famosos analisis de **varianza** y de **desviación estandar**"
   ]
  },
  {
   "cell_type": "markdown",
   "id": "26605999-1e73-411c-8ddc-8a0ff8ad1c75",
   "metadata": {},
   "source": [
    "## Medida de desviación estandar"
   ]
  },
  {
   "cell_type": "code",
   "execution_count": 18,
   "id": "718ca429-7ff5-4d7f-81f8-9f116e081878",
   "metadata": {},
   "outputs": [
    {
     "data": {
      "text/plain": [
       "rArea\n",
       "Rural     1118.998968\n",
       "Urbano    1907.644415\n",
       "Name: r6, dtype: float64"
      ]
     },
     "execution_count": 18,
     "metadata": {},
     "output_type": "execute_result"
    }
   ],
   "source": [
    "data.groupby(['rArea'])['r6'].std()"
   ]
  },
  {
   "cell_type": "markdown",
   "id": "a98f4ca8-9af0-457f-b7e0-ad2d7492ae3c",
   "metadata": {},
   "source": [
    "## Medida de Varianza"
   ]
  },
  {
   "cell_type": "code",
   "execution_count": 19,
   "id": "15d32611-7c39-4167-a5d7-029718ec51ae",
   "metadata": {},
   "outputs": [
    {
     "data": {
      "text/plain": [
       "rArea\n",
       "Rural     1.252159e+06\n",
       "Urbano    3.639107e+06\n",
       "Name: r6, dtype: float64"
      ]
     },
     "execution_count": 19,
     "metadata": {},
     "output_type": "execute_result"
    }
   ],
   "source": [
    "data.groupby(['rArea'])['r6'].var()"
   ]
  },
  {
   "cell_type": "markdown",
   "id": "d43ae81c-9ff5-492c-a043-c892bf6fc08f",
   "metadata": {},
   "source": [
    "# Analisis de la distribución de la variable"
   ]
  },
  {
   "cell_type": "markdown",
   "id": "bb0e2449-2300-4260-891c-63f22ae4adff",
   "metadata": {},
   "source": [
    "Analizaremos la distribución del ingreso per-capita mensual y sus principales indicadores de tendencia central y dispersion"
   ]
  },
  {
   "cell_type": "code",
   "execution_count": 25,
   "id": "8f214f13-64ef-4adc-94d3-d59f8736b3c7",
   "metadata": {},
   "outputs": [
    {
     "name": "stdout",
     "output_type": "stream",
     "text": [
      "\n",
      "Indicadores de tendencia central\n",
      "--------------------------------------\n",
      "Promedio de los ingresos: 1328.6171911424246\n",
      "Mediana de los ingresos: 890.9166870117188\n",
      "\n",
      "Indicadores de dispersión\n",
      "--------------------------------------\n",
      "Varianza de los ingresos: 2849689.104931771\n",
      "Desviacion estandar de los ingresos: 1688.102219929756\n"
     ]
    },
    {
     "data": {
      "image/png": "[encoded data removed]",
      "text/plain": [
       "<Figure size 640x480 with 1 Axes>"
      ]
     },
     "metadata": {},
     "output_type": "display_data"
    }
   ],
   "source": [
    "# Informacion de histograma\n",
    "seaborn.histplot(data, x='r6', bins=30, color='red')\n",
    "print()\n",
    "print(\"Indicadores de tendencia central\")\n",
    "print(\"--------------------------------------\")\n",
    "print(\"Promedio de los ingresos:\", data['r6'].mean())\n",
    "print(\"Mediana de los ingresos:\", data['r6'].median())\n",
    "print()\n",
    "print(\"Indicadores de dispersión\")\n",
    "print(\"--------------------------------------\")\n",
    "print(\"Varianza de los ingresos:\", data['r6'].var())\n",
    "print(\"Desviacion estandar de los ingresos:\", data['r6'].std())\n"
   ]
  },
  {
   "cell_type": "markdown",
   "id": "e8aa15bb-7e48-45eb-b9fe-32ac82767904",
   "metadata": {},
   "source": [
    "Analizaremos la distribución del ingreso per-capita mensual y sus principales indicadores de tendencia central y dispersion\n",
    "- Consodirando solo los ingresos hasta 5000 soles y para hombre sy mujeres\n"
   ]
  },
  {
   "cell_type": "markdown",
   "id": "e08e2870-a999-4d27-9467-2fb151925229",
   "metadata": {},
   "source": [
    "## Data solo para hombres"
   ]
  },
  {
   "cell_type": "code",
   "execution_count": 31,
   "id": "da7b2644-31d0-45a5-999e-a0e288245b6c",
   "metadata": {},
   "outputs": [
    {
     "data": {
      "text/html": [
       "<div>\n",
       "<style scoped>\n",
       "    .dataframe tbody tr th:only-of-type {\n",
       "        vertical-align: middle;\n",
       "    }\n",
       "\n",
       "    .dataframe tbody tr th {\n",
       "        vertical-align: top;\n",
       "    }\n",
       "\n",
       "    .dataframe thead th {\n",
       "        text-align: right;\n",
       "    }\n",
       "</style>\n",
       "<table border=\"1\" class=\"dataframe\">\n",
       "  <thead>\n",
       "    <tr style=\"text-align: right;\">\n",
       "      <th></th>\n",
       "      <th>rpersona</th>\n",
       "      <th>rArea</th>\n",
       "      <th>rDpto</th>\n",
       "      <th>reduca_niv</th>\n",
       "      <th>r6</th>\n",
       "      <th>rmujer</th>\n",
       "      <th>lnr6</th>\n",
       "    </tr>\n",
       "  </thead>\n",
       "  <tbody>\n",
       "    <tr>\n",
       "      <th>0</th>\n",
       "      <td>50070031101</td>\n",
       "      <td>Urbano</td>\n",
       "      <td>Amazonas</td>\n",
       "      <td>Superior universitaria</td>\n",
       "      <td>6433.593750</td>\n",
       "      <td>Hombre</td>\n",
       "      <td>8.769289</td>\n",
       "    </tr>\n",
       "    <tr>\n",
       "      <th>2</th>\n",
       "      <td>50070221101</td>\n",
       "      <td>Urbano</td>\n",
       "      <td>Amazonas</td>\n",
       "      <td>Superior universitaria</td>\n",
       "      <td>2224.665283</td>\n",
       "      <td>Hombre</td>\n",
       "      <td>7.707362</td>\n",
       "    </tr>\n",
       "    <tr>\n",
       "      <th>4</th>\n",
       "      <td>50091261101</td>\n",
       "      <td>Urbano</td>\n",
       "      <td>Amazonas</td>\n",
       "      <td>Secundaria</td>\n",
       "      <td>5580.133301</td>\n",
       "      <td>Hombre</td>\n",
       "      <td>8.626968</td>\n",
       "    </tr>\n",
       "    <tr>\n",
       "      <th>5</th>\n",
       "      <td>50191141101</td>\n",
       "      <td>Urbano</td>\n",
       "      <td>Amazonas</td>\n",
       "      <td>Elemental</td>\n",
       "      <td>1255.228027</td>\n",
       "      <td>Hombre</td>\n",
       "      <td>7.135073</td>\n",
       "    </tr>\n",
       "  </tbody>\n",
       "</table>\n",
       "</div>"
      ],
      "text/plain": [
       "      rpersona   rArea     rDpto              reduca_niv           r6  rmujer  \\\n",
       "0  50070031101  Urbano  Amazonas  Superior universitaria  6433.593750  Hombre   \n",
       "2  50070221101  Urbano  Amazonas  Superior universitaria  2224.665283  Hombre   \n",
       "4  50091261101  Urbano  Amazonas              Secundaria  5580.133301  Hombre   \n",
       "5  50191141101  Urbano  Amazonas               Elemental  1255.228027  Hombre   \n",
       "\n",
       "       lnr6  \n",
       "0  8.769289  \n",
       "2  7.707362  \n",
       "4  8.626968  \n",
       "5  7.135073  "
      ]
     },
     "execution_count": 31,
     "metadata": {},
     "output_type": "execute_result"
    }
   ],
   "source": [
    "data_hombres = data[data['rmujer'] == 'Hombre']\n",
    "data_hombres.head(4)"
   ]
  },
  {
   "cell_type": "code",
   "execution_count": 32,
   "id": "16b601d8-8c05-40b9-beae-e173ec770300",
   "metadata": {},
   "outputs": [
    {
     "name": "stdout",
     "output_type": "stream",
     "text": [
      "\n",
      "Indicadores de tendencia central\n",
      "--------------------------------------\n",
      "Promedio de los ingresos: 1462.2651607809585\n",
      "Mediana de los ingresos: 1007.3474731445312\n",
      "\n",
      "Indicadores de dispersión\n",
      "--------------------------------------\n",
      "Varianza de los ingresos: 3138293.4715919634\n",
      "Desviacion estandar de los ingresos: 1771.5229243766403\n"
     ]
    },
    {
     "data": {
      "image/png": "[encoded data removed]",
      "text/plain": [
       "<Figure size 640x480 with 1 Axes>"
      ]
     },
     "metadata": {},
     "output_type": "display_data"
    }
   ],
   "source": [
    "# Informacion de histograma de hombres\n",
    "seaborn.histplot(data_hombres, x='r6', bins=30, color='red')\n",
    "print()\n",
    "print(\"Indicadores de tendencia central\")\n",
    "print(\"--------------------------------------\")\n",
    "print(\"Promedio de los ingresos:\", data_hombres['r6'].mean())\n",
    "print(\"Mediana de los ingresos:\", data_hombres['r6'].median())\n",
    "print()\n",
    "print(\"Indicadores de dispersión\")\n",
    "print(\"--------------------------------------\")\n",
    "print(\"Varianza de los ingresos:\", data_hombres['r6'].var())\n",
    "print(\"Desviacion estandar de los ingresos:\", data_hombres['r6'].std())\n"
   ]
  },
  {
   "cell_type": "markdown",
   "id": "5e9a28ba-8c4a-4fb0-a2fe-ebf94725d881",
   "metadata": {},
   "source": [
    "## Data solo para mujeres"
   ]
  },
  {
   "cell_type": "code",
   "execution_count": 33,
   "id": "294c470b-cb79-4e04-b1c3-7e277954e18f",
   "metadata": {},
   "outputs": [
    {
     "data": {
      "text/html": [
       "<div>\n",
       "<style scoped>\n",
       "    .dataframe tbody tr th:only-of-type {\n",
       "        vertical-align: middle;\n",
       "    }\n",
       "\n",
       "    .dataframe tbody tr th {\n",
       "        vertical-align: top;\n",
       "    }\n",
       "\n",
       "    .dataframe thead th {\n",
       "        text-align: right;\n",
       "    }\n",
       "</style>\n",
       "<table border=\"1\" class=\"dataframe\">\n",
       "  <thead>\n",
       "    <tr style=\"text-align: right;\">\n",
       "      <th></th>\n",
       "      <th>rpersona</th>\n",
       "      <th>rArea</th>\n",
       "      <th>rDpto</th>\n",
       "      <th>reduca_niv</th>\n",
       "      <th>r6</th>\n",
       "      <th>rmujer</th>\n",
       "      <th>lnr6</th>\n",
       "    </tr>\n",
       "  </thead>\n",
       "  <tbody>\n",
       "    <tr>\n",
       "      <th>1</th>\n",
       "      <td>50070121101</td>\n",
       "      <td>Urbano</td>\n",
       "      <td>Amazonas</td>\n",
       "      <td>Secundaria</td>\n",
       "      <td>1062.165894</td>\n",
       "      <td>Mujer</td>\n",
       "      <td>6.968065</td>\n",
       "    </tr>\n",
       "    <tr>\n",
       "      <th>3</th>\n",
       "      <td>50090411101</td>\n",
       "      <td>Urbano</td>\n",
       "      <td>Amazonas</td>\n",
       "      <td>Elemental</td>\n",
       "      <td>397.583344</td>\n",
       "      <td>Mujer</td>\n",
       "      <td>5.985405</td>\n",
       "    </tr>\n",
       "    <tr>\n",
       "      <th>13</th>\n",
       "      <td>50270651101</td>\n",
       "      <td>Urbano</td>\n",
       "      <td>Amazonas</td>\n",
       "      <td>Elemental</td>\n",
       "      <td>776.569397</td>\n",
       "      <td>Mujer</td>\n",
       "      <td>6.654886</td>\n",
       "    </tr>\n",
       "    <tr>\n",
       "      <th>14</th>\n",
       "      <td>50270781101</td>\n",
       "      <td>Urbano</td>\n",
       "      <td>Amazonas</td>\n",
       "      <td>Elemental</td>\n",
       "      <td>388.500000</td>\n",
       "      <td>Mujer</td>\n",
       "      <td>5.962293</td>\n",
       "    </tr>\n",
       "  </tbody>\n",
       "</table>\n",
       "</div>"
      ],
      "text/plain": [
       "       rpersona   rArea     rDpto  reduca_niv           r6 rmujer      lnr6\n",
       "1   50070121101  Urbano  Amazonas  Secundaria  1062.165894  Mujer  6.968065\n",
       "3   50090411101  Urbano  Amazonas   Elemental   397.583344  Mujer  5.985405\n",
       "13  50270651101  Urbano  Amazonas   Elemental   776.569397  Mujer  6.654886\n",
       "14  50270781101  Urbano  Amazonas   Elemental   388.500000  Mujer  5.962293"
      ]
     },
     "execution_count": 33,
     "metadata": {},
     "output_type": "execute_result"
    }
   ],
   "source": [
    "data_mujeres = data[data['rmujer'] == 'Mujer']\n",
    "data_mujeres.head(4)"
   ]
  },
  {
   "cell_type": "code",
   "execution_count": 34,
   "id": "63d5a3e1-c7d2-4d51-b735-92652e96a559",
   "metadata": {},
   "outputs": [
    {
     "name": "stdout",
     "output_type": "stream",
     "text": [
      "\n",
      "Indicadores de tendencia central\n",
      "--------------------------------------\n",
      "Promedio de los ingresos: 1016.87214616862\n",
      "Mediana de los ingresos: 608.5979309082031\n",
      "\n",
      "Indicadores de dispersión\n",
      "--------------------------------------\n",
      "Varianza de los ingresos: 2037921.7230220924\n",
      "Desviacion estandar de los ingresos: 1427.5579578504307\n"
     ]
    },
    {
     "data": {
      "image/png": "[encoded data removed]",
      "text/plain": [
       "<Figure size 640x480 with 1 Axes>"
      ]
     },
     "metadata": {},
     "output_type": "display_data"
    }
   ],
   "source": [
    "# Informacion de histograma de hombres\n",
    "seaborn.histplot(data_mujeres, x='r6', bins=30, color='red')\n",
    "print()\n",
    "print(\"Indicadores de tendencia central\")\n",
    "print(\"--------------------------------------\")\n",
    "print(\"Promedio de los ingresos:\", data_mujeres['r6'].mean())\n",
    "print(\"Mediana de los ingresos:\", data_mujeres['r6'].median())\n",
    "print()\n",
    "print(\"Indicadores de dispersión\")\n",
    "print(\"--------------------------------------\")\n",
    "print(\"Varianza de los ingresos:\", data_mujeres['r6'].var())\n",
    "print(\"Desviacion estandar de los ingresos:\", data_mujeres['r6'].std())\n"
   ]
  },
  {
   "cell_type": "code",
   "execution_count": null,
   "id": "e710ce66-1f17-4969-8026-b47616e504dc",
   "metadata": {},
   "outputs": [],
   "source": []
  }
 ],
 "metadata": {
  "kernelspec": {
   "display_name": "Python 3 (ipykernel)",
   "language": "python",
   "name": "python3"
  },
  "language_info": {
   "codemirror_mode": {
    "name": "ipython",
    "version": 3
   },
   "file_extension": ".py",
   "mimetype": "text/x-python",
   "name": "python",
   "nbconvert_exporter": "python",
   "pygments_lexer": "ipython3",
   "version": "3.10.8"
  },
  "toc-autonumbering": true
 },
 "nbformat": 4,
 "nbformat_minor": 5
}
