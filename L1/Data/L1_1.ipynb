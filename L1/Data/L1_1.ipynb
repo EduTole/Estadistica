{
 "cells": [
  {
   "cell_type": "markdown",
   "id": "e0f8e36f-0c68-4a35-bc12-5f622d12bbda",
   "metadata": {},
   "source": [
    "<center style=\"font-size: 2em; font-weight: bold;\"> Clase 1 </center>"
   ]
  },
  {
   "cell_type": "markdown",
   "id": "f3673e0b-87cb-4694-b2fd-27ead204ec66",
   "metadata": {},
   "source": [
    "\n",
    "Curso: Estadistica para Economistas\n",
    "Tema: Pobreza Monetaria\n",
    "\n",
    "Analisis de informacion de la pobreza 2021, se busca como objetivos:\n",
    "- Manipulacion de datos \n",
    "- Procesamiento de variables\n",
    "\n",
    "Conocimiento de las principales comandos:\n",
    "- libreria pandas\n",
    "- Importar / exportar datos\n",
    "- value_counts\n",
    "- head o tail \n",
    "    "
   ]
  },
  {
   "cell_type": "markdown",
   "id": "53dd01a3-81e3-434e-bde6-0ed0eef678d8",
   "metadata": {},
   "source": [
    "# Carga de librerias"
   ]
  },
  {
   "cell_type": "code",
   "execution_count": 13,
   "id": "d360f950-c554-4ef4-9ac6-4d7c32ff942d",
   "metadata": {},
   "outputs": [
    {
     "name": "stderr",
     "output_type": "stream",
     "text": [
      "Matplotlib is building the font cache; this may take a moment.\n"
     ]
    }
   ],
   "source": [
    "import pandas\n",
    "import seaborn as sns"
   ]
  },
  {
   "cell_type": "markdown",
   "id": "f5302eab-613b-405d-a8a9-d183bbaf30f9",
   "metadata": {},
   "source": [
    "# Importar una base de datos"
   ]
  },
  {
   "cell_type": "code",
   "execution_count": 2,
   "id": "52adc590-49ae-4ea1-a5fc-9bc15c411897",
   "metadata": {},
   "outputs": [],
   "source": [
    "base = pandas.read_excel('BD_1.xlsx')"
   ]
  },
  {
   "cell_type": "markdown",
   "id": "2cf707df-1cf6-46d2-8922-7e0ba31286e0",
   "metadata": {},
   "source": [
    "Para poder cargar la base de datos y mostrar las primeras 5 observaciones"
   ]
  },
  {
   "cell_type": "code",
   "execution_count": 3,
   "id": "3fb197ac-1914-47e8-a751-513272cad493",
   "metadata": {},
   "outputs": [
    {
     "data": {
      "text/html": [
       "<div>\n",
       "<style scoped>\n",
       "    .dataframe tbody tr th:only-of-type {\n",
       "        vertical-align: middle;\n",
       "    }\n",
       "\n",
       "    .dataframe tbody tr th {\n",
       "        vertical-align: top;\n",
       "    }\n",
       "\n",
       "    .dataframe thead th {\n",
       "        text-align: right;\n",
       "    }\n",
       "</style>\n",
       "<table border=\"1\" class=\"dataframe\">\n",
       "  <thead>\n",
       "    <tr style=\"text-align: right;\">\n",
       "      <th></th>\n",
       "      <th>rid_hogar</th>\n",
       "      <th>rpond</th>\n",
       "      <th>ry</th>\n",
       "      <th>rly</th>\n",
       "      <th>rpobre</th>\n",
       "      <th>rbrecha</th>\n",
       "      <th>rseveri</th>\n",
       "      <th>rmiembros</th>\n",
       "      <th>rArea</th>\n",
       "      <th>rDpto</th>\n",
       "      <th>rDpto2</th>\n",
       "      <th>rDpto3</th>\n",
       "    </tr>\n",
       "  </thead>\n",
       "  <tbody>\n",
       "    <tr>\n",
       "      <th>0</th>\n",
       "      <td>500904111</td>\n",
       "      <td>954.745483</td>\n",
       "      <td>690.014160</td>\n",
       "      <td>6.536712</td>\n",
       "      <td>No Pobre</td>\n",
       "      <td>0.0</td>\n",
       "      <td>0.0</td>\n",
       "      <td>2</td>\n",
       "      <td>Urbano</td>\n",
       "      <td>Amazonas</td>\n",
       "      <td>Amazonas</td>\n",
       "      <td>Amazonas</td>\n",
       "    </tr>\n",
       "    <tr>\n",
       "      <th>1</th>\n",
       "      <td>500909811</td>\n",
       "      <td>1909.490967</td>\n",
       "      <td>642.726746</td>\n",
       "      <td>6.465720</td>\n",
       "      <td>No Pobre</td>\n",
       "      <td>0.0</td>\n",
       "      <td>0.0</td>\n",
       "      <td>4</td>\n",
       "      <td>Urbano</td>\n",
       "      <td>Amazonas</td>\n",
       "      <td>Amazonas</td>\n",
       "      <td>Amazonas</td>\n",
       "    </tr>\n",
       "    <tr>\n",
       "      <th>2</th>\n",
       "      <td>500912611</td>\n",
       "      <td>2386.863770</td>\n",
       "      <td>1588.947144</td>\n",
       "      <td>7.370827</td>\n",
       "      <td>No Pobre</td>\n",
       "      <td>0.0</td>\n",
       "      <td>0.0</td>\n",
       "      <td>5</td>\n",
       "      <td>Urbano</td>\n",
       "      <td>Amazonas</td>\n",
       "      <td>Amazonas</td>\n",
       "      <td>Amazonas</td>\n",
       "    </tr>\n",
       "    <tr>\n",
       "      <th>3</th>\n",
       "      <td>503000511</td>\n",
       "      <td>1019.342834</td>\n",
       "      <td>392.365875</td>\n",
       "      <td>5.972195</td>\n",
       "      <td>No Pobre</td>\n",
       "      <td>0.0</td>\n",
       "      <td>0.0</td>\n",
       "      <td>7</td>\n",
       "      <td>Urbano</td>\n",
       "      <td>Amazonas</td>\n",
       "      <td>Amazonas</td>\n",
       "      <td>Amazonas</td>\n",
       "    </tr>\n",
       "    <tr>\n",
       "      <th>4</th>\n",
       "      <td>503001211</td>\n",
       "      <td>436.861206</td>\n",
       "      <td>360.885315</td>\n",
       "      <td>5.888560</td>\n",
       "      <td>No Pobre</td>\n",
       "      <td>0.0</td>\n",
       "      <td>0.0</td>\n",
       "      <td>3</td>\n",
       "      <td>Urbano</td>\n",
       "      <td>Amazonas</td>\n",
       "      <td>Amazonas</td>\n",
       "      <td>Amazonas</td>\n",
       "    </tr>\n",
       "  </tbody>\n",
       "</table>\n",
       "</div>"
      ],
      "text/plain": [
       "   rid_hogar        rpond           ry       rly    rpobre  rbrecha  rseveri  \\\n",
       "0  500904111   954.745483   690.014160  6.536712  No Pobre      0.0      0.0   \n",
       "1  500909811  1909.490967   642.726746  6.465720  No Pobre      0.0      0.0   \n",
       "2  500912611  2386.863770  1588.947144  7.370827  No Pobre      0.0      0.0   \n",
       "3  503000511  1019.342834   392.365875  5.972195  No Pobre      0.0      0.0   \n",
       "4  503001211   436.861206   360.885315  5.888560  No Pobre      0.0      0.0   \n",
       "\n",
       "   rmiembros   rArea     rDpto    rDpto2    rDpto3  \n",
       "0          2  Urbano  Amazonas  Amazonas  Amazonas  \n",
       "1          4  Urbano  Amazonas  Amazonas  Amazonas  \n",
       "2          5  Urbano  Amazonas  Amazonas  Amazonas  \n",
       "3          7  Urbano  Amazonas  Amazonas  Amazonas  \n",
       "4          3  Urbano  Amazonas  Amazonas  Amazonas  "
      ]
     },
     "execution_count": 3,
     "metadata": {},
     "output_type": "execute_result"
    }
   ],
   "source": [
    "base.head(5)"
   ]
  },
  {
   "cell_type": "markdown",
   "id": "e7f3b213-43d8-499b-a5d4-93d99eaa7d6c",
   "metadata": {},
   "source": [
    "Para poder cargar la base de datos y mostrar las ultimas 5 observaciones"
   ]
  },
  {
   "cell_type": "code",
   "execution_count": 4,
   "id": "43c31231-01ca-41bd-b06f-ba2497133597",
   "metadata": {},
   "outputs": [
    {
     "data": {
      "text/html": [
       "<div>\n",
       "<style scoped>\n",
       "    .dataframe tbody tr th:only-of-type {\n",
       "        vertical-align: middle;\n",
       "    }\n",
       "\n",
       "    .dataframe tbody tr th {\n",
       "        vertical-align: top;\n",
       "    }\n",
       "\n",
       "    .dataframe thead th {\n",
       "        text-align: right;\n",
       "    }\n",
       "</style>\n",
       "<table border=\"1\" class=\"dataframe\">\n",
       "  <thead>\n",
       "    <tr style=\"text-align: right;\">\n",
       "      <th></th>\n",
       "      <th>rid_hogar</th>\n",
       "      <th>rpond</th>\n",
       "      <th>ry</th>\n",
       "      <th>rly</th>\n",
       "      <th>rpobre</th>\n",
       "      <th>rbrecha</th>\n",
       "      <th>rseveri</th>\n",
       "      <th>rmiembros</th>\n",
       "      <th>rArea</th>\n",
       "      <th>rDpto</th>\n",
       "      <th>rDpto2</th>\n",
       "      <th>rDpto3</th>\n",
       "    </tr>\n",
       "  </thead>\n",
       "  <tbody>\n",
       "    <tr>\n",
       "      <th>34240</th>\n",
       "      <td>2034803211</td>\n",
       "      <td>285.156586</td>\n",
       "      <td>444.624115</td>\n",
       "      <td>6.097229</td>\n",
       "      <td>No Pobre</td>\n",
       "      <td>0.0</td>\n",
       "      <td>0.0</td>\n",
       "      <td>4</td>\n",
       "      <td>Rural</td>\n",
       "      <td>Ucayali</td>\n",
       "      <td>Ucayali</td>\n",
       "      <td>Ucayali</td>\n",
       "    </tr>\n",
       "    <tr>\n",
       "      <th>34241</th>\n",
       "      <td>2034806611</td>\n",
       "      <td>142.578293</td>\n",
       "      <td>772.439697</td>\n",
       "      <td>6.649554</td>\n",
       "      <td>No Pobre</td>\n",
       "      <td>0.0</td>\n",
       "      <td>0.0</td>\n",
       "      <td>2</td>\n",
       "      <td>Rural</td>\n",
       "      <td>Ucayali</td>\n",
       "      <td>Ucayali</td>\n",
       "      <td>Ucayali</td>\n",
       "    </tr>\n",
       "    <tr>\n",
       "      <th>34242</th>\n",
       "      <td>2034806711</td>\n",
       "      <td>71.289146</td>\n",
       "      <td>1133.397461</td>\n",
       "      <td>7.032975</td>\n",
       "      <td>No Pobre</td>\n",
       "      <td>0.0</td>\n",
       "      <td>0.0</td>\n",
       "      <td>1</td>\n",
       "      <td>Rural</td>\n",
       "      <td>Ucayali</td>\n",
       "      <td>Ucayali</td>\n",
       "      <td>Ucayali</td>\n",
       "    </tr>\n",
       "    <tr>\n",
       "      <th>34243</th>\n",
       "      <td>2034806911</td>\n",
       "      <td>142.578293</td>\n",
       "      <td>861.900818</td>\n",
       "      <td>6.759140</td>\n",
       "      <td>No Pobre</td>\n",
       "      <td>0.0</td>\n",
       "      <td>0.0</td>\n",
       "      <td>2</td>\n",
       "      <td>Rural</td>\n",
       "      <td>Ucayali</td>\n",
       "      <td>Ucayali</td>\n",
       "      <td>Ucayali</td>\n",
       "    </tr>\n",
       "    <tr>\n",
       "      <th>34244</th>\n",
       "      <td>2034807011</td>\n",
       "      <td>427.734863</td>\n",
       "      <td>372.070435</td>\n",
       "      <td>5.919083</td>\n",
       "      <td>No Pobre</td>\n",
       "      <td>0.0</td>\n",
       "      <td>0.0</td>\n",
       "      <td>6</td>\n",
       "      <td>Rural</td>\n",
       "      <td>Ucayali</td>\n",
       "      <td>Ucayali</td>\n",
       "      <td>Ucayali</td>\n",
       "    </tr>\n",
       "  </tbody>\n",
       "</table>\n",
       "</div>"
      ],
      "text/plain": [
       "        rid_hogar       rpond           ry       rly    rpobre  rbrecha  \\\n",
       "34240  2034803211  285.156586   444.624115  6.097229  No Pobre      0.0   \n",
       "34241  2034806611  142.578293   772.439697  6.649554  No Pobre      0.0   \n",
       "34242  2034806711   71.289146  1133.397461  7.032975  No Pobre      0.0   \n",
       "34243  2034806911  142.578293   861.900818  6.759140  No Pobre      0.0   \n",
       "34244  2034807011  427.734863   372.070435  5.919083  No Pobre      0.0   \n",
       "\n",
       "       rseveri  rmiembros  rArea    rDpto   rDpto2   rDpto3  \n",
       "34240      0.0          4  Rural  Ucayali  Ucayali  Ucayali  \n",
       "34241      0.0          2  Rural  Ucayali  Ucayali  Ucayali  \n",
       "34242      0.0          1  Rural  Ucayali  Ucayali  Ucayali  \n",
       "34243      0.0          2  Rural  Ucayali  Ucayali  Ucayali  \n",
       "34244      0.0          6  Rural  Ucayali  Ucayali  Ucayali  "
      ]
     },
     "execution_count": 4,
     "metadata": {},
     "output_type": "execute_result"
    }
   ],
   "source": [
    "base.tail(5)"
   ]
  },
  {
   "cell_type": "markdown",
   "id": "55b25f6a-3698-4634-8ed5-a414e4bca7cc",
   "metadata": {},
   "source": [
    "# Manipulacion de datos"
   ]
  },
  {
   "cell_type": "markdown",
   "id": "b1e9e306-2160-491f-bdb6-a25aa433dca6",
   "metadata": {},
   "source": [
    "## Caracterizacion de informacion\n",
    "\n",
    "Se describe la informacion de la base de datos \n",
    "- comando: info() , descripcion de informacion\n"
   ]
  },
  {
   "cell_type": "code",
   "execution_count": 5,
   "id": "12bb6bc4-8771-4862-8c0c-b52b10fbfc51",
   "metadata": {},
   "outputs": [
    {
     "name": "stdout",
     "output_type": "stream",
     "text": [
      "<class 'pandas.core.frame.DataFrame'>\n",
      "RangeIndex: 34245 entries, 0 to 34244\n",
      "Data columns (total 12 columns):\n",
      " #   Column     Non-Null Count  Dtype  \n",
      "---  ------     --------------  -----  \n",
      " 0   rid_hogar  34245 non-null  int64  \n",
      " 1   rpond      34245 non-null  float64\n",
      " 2   ry         34245 non-null  float64\n",
      " 3   rly        34245 non-null  float64\n",
      " 4   rpobre     34245 non-null  object \n",
      " 5   rbrecha    34245 non-null  float64\n",
      " 6   rseveri    34245 non-null  float64\n",
      " 7   rmiembros  34245 non-null  int64  \n",
      " 8   rArea      34245 non-null  object \n",
      " 9   rDpto      34245 non-null  object \n",
      " 10  rDpto2     34245 non-null  object \n",
      " 11  rDpto3     34245 non-null  object \n",
      "dtypes: float64(5), int64(2), object(5)\n",
      "memory usage: 3.1+ MB\n"
     ]
    }
   ],
   "source": [
    "base.info()"
   ]
  },
  {
   "cell_type": "markdown",
   "id": "cd95e0bc-6e0f-4464-8f6b-d8eee81b533c",
   "metadata": {},
   "source": [
    "## Transformacion de variables\n",
    "\n",
    "La variable que se analizara es la variable **rpobre**, donde se describe que es un objecto. "
   ]
  },
  {
   "cell_type": "code",
   "execution_count": 6,
   "id": "55b5694e-f732-48d6-b772-79f8b1a07fc5",
   "metadata": {},
   "outputs": [
    {
     "data": {
      "text/plain": [
       "No Pobre    27905\n",
       "Pobre        6340\n",
       "Name: rpobre, dtype: int64"
      ]
     },
     "execution_count": 6,
     "metadata": {},
     "output_type": "execute_result"
    }
   ],
   "source": [
    "base['rpobre'].value_counts()"
   ]
  },
  {
   "cell_type": "markdown",
   "id": "b7f58baa-7942-4caa-8bd0-c8f72cfb8906",
   "metadata": {},
   "source": [
    "Informacion de la proporcion de casos en cada tipo de pobreza:\n",
    "- option normalize usando **normalize == True**"
   ]
  },
  {
   "cell_type": "code",
   "execution_count": 7,
   "id": "1142d603-c6a0-491d-b107-b4408bd8576a",
   "metadata": {},
   "outputs": [
    {
     "data": {
      "text/plain": [
       "No Pobre    0.81\n",
       "Pobre       0.19\n",
       "Name: rpobre, dtype: float64"
      ]
     },
     "execution_count": 7,
     "metadata": {},
     "output_type": "execute_result"
    }
   ],
   "source": [
    "base['rpobre'].value_counts(normalize = True).round(2)"
   ]
  },
  {
   "cell_type": "markdown",
   "id": "591e6eaa-78b2-4f0f-8857-ee2b33612ef7",
   "metadata": {},
   "source": [
    "Tabulacion de informacion por area y tipo de pobreza"
   ]
  },
  {
   "cell_type": "code",
   "execution_count": 8,
   "id": "be17bd7f-4199-4cd9-8092-b91ac9bee350",
   "metadata": {},
   "outputs": [
    {
     "data": {
      "text/html": [
       "<div>\n",
       "<style scoped>\n",
       "    .dataframe tbody tr th:only-of-type {\n",
       "        vertical-align: middle;\n",
       "    }\n",
       "\n",
       "    .dataframe tbody tr th {\n",
       "        vertical-align: top;\n",
       "    }\n",
       "\n",
       "    .dataframe thead th {\n",
       "        text-align: right;\n",
       "    }\n",
       "</style>\n",
       "<table border=\"1\" class=\"dataframe\">\n",
       "  <thead>\n",
       "    <tr style=\"text-align: right;\">\n",
       "      <th>rpobre</th>\n",
       "      <th>No Pobre</th>\n",
       "      <th>Pobre</th>\n",
       "    </tr>\n",
       "    <tr>\n",
       "      <th>rArea</th>\n",
       "      <th></th>\n",
       "      <th></th>\n",
       "    </tr>\n",
       "  </thead>\n",
       "  <tbody>\n",
       "    <tr>\n",
       "      <th>Rural</th>\n",
       "      <td>8609</td>\n",
       "      <td>3561</td>\n",
       "    </tr>\n",
       "    <tr>\n",
       "      <th>Urbano</th>\n",
       "      <td>19296</td>\n",
       "      <td>2779</td>\n",
       "    </tr>\n",
       "  </tbody>\n",
       "</table>\n",
       "</div>"
      ],
      "text/plain": [
       "rpobre  No Pobre  Pobre\n",
       "rArea                  \n",
       "Rural       8609   3561\n",
       "Urbano     19296   2779"
      ]
     },
     "execution_count": 8,
     "metadata": {},
     "output_type": "execute_result"
    }
   ],
   "source": [
    "pandas.crosstab(base['rArea'], base['rpobre'])"
   ]
  },
  {
   "cell_type": "markdown",
   "id": "110faf05-ec9b-4428-be73-27f8fe9016a0",
   "metadata": {},
   "source": [
    "Mostrar la tabla cruzada agregando los totales (filas y columnas)"
   ]
  },
  {
   "cell_type": "code",
   "execution_count": 9,
   "id": "33ffc735-fd05-4d4b-a182-521cf40e7289",
   "metadata": {},
   "outputs": [
    {
     "data": {
      "text/html": [
       "<div>\n",
       "<style scoped>\n",
       "    .dataframe tbody tr th:only-of-type {\n",
       "        vertical-align: middle;\n",
       "    }\n",
       "\n",
       "    .dataframe tbody tr th {\n",
       "        vertical-align: top;\n",
       "    }\n",
       "\n",
       "    .dataframe thead th {\n",
       "        text-align: right;\n",
       "    }\n",
       "</style>\n",
       "<table border=\"1\" class=\"dataframe\">\n",
       "  <thead>\n",
       "    <tr style=\"text-align: right;\">\n",
       "      <th>rpobre</th>\n",
       "      <th>No Pobre</th>\n",
       "      <th>Pobre</th>\n",
       "      <th>Total</th>\n",
       "    </tr>\n",
       "    <tr>\n",
       "      <th>rArea</th>\n",
       "      <th></th>\n",
       "      <th></th>\n",
       "      <th></th>\n",
       "    </tr>\n",
       "  </thead>\n",
       "  <tbody>\n",
       "    <tr>\n",
       "      <th>Rural</th>\n",
       "      <td>8609</td>\n",
       "      <td>3561</td>\n",
       "      <td>12170</td>\n",
       "    </tr>\n",
       "    <tr>\n",
       "      <th>Urbano</th>\n",
       "      <td>19296</td>\n",
       "      <td>2779</td>\n",
       "      <td>22075</td>\n",
       "    </tr>\n",
       "    <tr>\n",
       "      <th>Total</th>\n",
       "      <td>27905</td>\n",
       "      <td>6340</td>\n",
       "      <td>34245</td>\n",
       "    </tr>\n",
       "  </tbody>\n",
       "</table>\n",
       "</div>"
      ],
      "text/plain": [
       "rpobre  No Pobre  Pobre  Total\n",
       "rArea                         \n",
       "Rural       8609   3561  12170\n",
       "Urbano     19296   2779  22075\n",
       "Total      27905   6340  34245"
      ]
     },
     "execution_count": 9,
     "metadata": {},
     "output_type": "execute_result"
    }
   ],
   "source": [
    "pandas.crosstab(base['rArea'], base['rpobre'], margins= True, margins_name='Total')"
   ]
  },
  {
   "cell_type": "markdown",
   "id": "52e13334-8515-4e06-b465-76b3eddd9398",
   "metadata": {},
   "source": [
    "Realizar la tabla cruzada utilizando dos decimales"
   ]
  },
  {
   "cell_type": "code",
   "execution_count": 10,
   "id": "9957d916-0c85-40e1-98d2-fb6ce922de3b",
   "metadata": {},
   "outputs": [
    {
     "data": {
      "text/html": [
       "<div>\n",
       "<style scoped>\n",
       "    .dataframe tbody tr th:only-of-type {\n",
       "        vertical-align: middle;\n",
       "    }\n",
       "\n",
       "    .dataframe tbody tr th {\n",
       "        vertical-align: top;\n",
       "    }\n",
       "\n",
       "    .dataframe thead th {\n",
       "        text-align: right;\n",
       "    }\n",
       "</style>\n",
       "<table border=\"1\" class=\"dataframe\">\n",
       "  <thead>\n",
       "    <tr style=\"text-align: right;\">\n",
       "      <th>rpobre</th>\n",
       "      <th>No Pobre</th>\n",
       "      <th>Pobre</th>\n",
       "      <th>Total</th>\n",
       "    </tr>\n",
       "    <tr>\n",
       "      <th>rArea</th>\n",
       "      <th></th>\n",
       "      <th></th>\n",
       "      <th></th>\n",
       "    </tr>\n",
       "  </thead>\n",
       "  <tbody>\n",
       "    <tr>\n",
       "      <th>Rural</th>\n",
       "      <td>0.25</td>\n",
       "      <td>0.10</td>\n",
       "      <td>0.36</td>\n",
       "    </tr>\n",
       "    <tr>\n",
       "      <th>Urbano</th>\n",
       "      <td>0.56</td>\n",
       "      <td>0.08</td>\n",
       "      <td>0.64</td>\n",
       "    </tr>\n",
       "    <tr>\n",
       "      <th>Total</th>\n",
       "      <td>0.81</td>\n",
       "      <td>0.19</td>\n",
       "      <td>1.00</td>\n",
       "    </tr>\n",
       "  </tbody>\n",
       "</table>\n",
       "</div>"
      ],
      "text/plain": [
       "rpobre  No Pobre  Pobre  Total\n",
       "rArea                         \n",
       "Rural       0.25   0.10   0.36\n",
       "Urbano      0.56   0.08   0.64\n",
       "Total       0.81   0.19   1.00"
      ]
     },
     "execution_count": 10,
     "metadata": {},
     "output_type": "execute_result"
    }
   ],
   "source": [
    "pandas.crosstab(base['rArea'], base['rpobre'], normalize = True,margins= True, margins_name='Total').round(2)"
   ]
  },
  {
   "cell_type": "markdown",
   "id": "e99b4b37-f12a-48b5-a695-d0eaecb06762",
   "metadata": {},
   "source": [
    "filtramos variables de la base de datos\n",
    "- rid_hogar\n",
    "- rpobre\n",
    "- rDpto"
   ]
  },
  {
   "cell_type": "code",
   "execution_count": 11,
   "id": "93002a02-f0c5-4940-a4f4-4c6a3a154485",
   "metadata": {},
   "outputs": [],
   "source": [
    "data = base[['rid_hogar','rDpto','rpobre']]"
   ]
  },
  {
   "cell_type": "code",
   "execution_count": 12,
   "id": "bdcf8a40-0de5-431b-ae6f-f22ebdc633db",
   "metadata": {},
   "outputs": [
    {
     "data": {
      "text/html": [
       "<div>\n",
       "<style scoped>\n",
       "    .dataframe tbody tr th:only-of-type {\n",
       "        vertical-align: middle;\n",
       "    }\n",
       "\n",
       "    .dataframe tbody tr th {\n",
       "        vertical-align: top;\n",
       "    }\n",
       "\n",
       "    .dataframe thead th {\n",
       "        text-align: right;\n",
       "    }\n",
       "</style>\n",
       "<table border=\"1\" class=\"dataframe\">\n",
       "  <thead>\n",
       "    <tr style=\"text-align: right;\">\n",
       "      <th></th>\n",
       "      <th>rid_hogar</th>\n",
       "      <th>rDpto</th>\n",
       "      <th>rpobre</th>\n",
       "    </tr>\n",
       "  </thead>\n",
       "  <tbody>\n",
       "    <tr>\n",
       "      <th>0</th>\n",
       "      <td>500904111</td>\n",
       "      <td>Amazonas</td>\n",
       "      <td>No Pobre</td>\n",
       "    </tr>\n",
       "    <tr>\n",
       "      <th>1</th>\n",
       "      <td>500909811</td>\n",
       "      <td>Amazonas</td>\n",
       "      <td>No Pobre</td>\n",
       "    </tr>\n",
       "    <tr>\n",
       "      <th>2</th>\n",
       "      <td>500912611</td>\n",
       "      <td>Amazonas</td>\n",
       "      <td>No Pobre</td>\n",
       "    </tr>\n",
       "    <tr>\n",
       "      <th>3</th>\n",
       "      <td>503000511</td>\n",
       "      <td>Amazonas</td>\n",
       "      <td>No Pobre</td>\n",
       "    </tr>\n",
       "    <tr>\n",
       "      <th>4</th>\n",
       "      <td>503001211</td>\n",
       "      <td>Amazonas</td>\n",
       "      <td>No Pobre</td>\n",
       "    </tr>\n",
       "  </tbody>\n",
       "</table>\n",
       "</div>"
      ],
      "text/plain": [
       "   rid_hogar     rDpto    rpobre\n",
       "0  500904111  Amazonas  No Pobre\n",
       "1  500909811  Amazonas  No Pobre\n",
       "2  500912611  Amazonas  No Pobre\n",
       "3  503000511  Amazonas  No Pobre\n",
       "4  503001211  Amazonas  No Pobre"
      ]
     },
     "execution_count": 12,
     "metadata": {},
     "output_type": "execute_result"
    }
   ],
   "source": [
    "data.head(5)"
   ]
  },
  {
   "cell_type": "markdown",
   "id": "00f70935-6a5e-4b9b-ab33-eb530211cbfe",
   "metadata": {},
   "source": [
    "# Graficos"
   ]
  },
  {
   "cell_type": "markdown",
   "id": "ea5dc17a-0091-4db4-afc2-b25e1c069b8b",
   "metadata": {},
   "source": [
    "## Grafico de barras"
   ]
  },
  {
   "cell_type": "markdown",
   "id": "89c7e1b7-3b66-4450-a9ff-a7126d3ab347",
   "metadata": {},
   "source": [
    "Se realiza un grafico de informacion po tipo de pobreza y considerando el calculo del gasto promedio "
   ]
  },
  {
   "cell_type": "code",
   "execution_count": 14,
   "id": "ec1e66b1-c3f9-4751-ab80-50054bd59185",
   "metadata": {},
   "outputs": [
    {
     "data": {
      "text/plain": [
       "<AxesSubplot: xlabel='rpobre', ylabel='ry'>"
      ]
     },
     "execution_count": 14,
     "metadata": {},
     "output_type": "execute_result"
    },
    {
     "data": {
      "image/png": "[encoded data removed]",
      "text/plain": [
       "<Figure size 640x480 with 1 Axes>"
      ]
     },
     "metadata": {},
     "output_type": "display_data"
    }
   ],
   "source": [
    "sns.barplot(data=base, x='rpobre', y='ry')"
   ]
  },
  {
   "cell_type": "code",
   "execution_count": 18,
   "id": "767aae45-f006-4cb2-bc34-7bb5e93e7216",
   "metadata": {},
   "outputs": [
    {
     "data": {
      "text/plain": [
       "<AxesSubplot: xlabel='rArea', ylabel='ry'>"
      ]
     },
     "execution_count": 18,
     "metadata": {},
     "output_type": "execute_result"
    },
    {
     "data": {
      "image/png": "[encoded data removed]",
      "text/plain": [
       "<Figure size 640x480 with 1 Axes>"
      ]
     },
     "metadata": {},
     "output_type": "display_data"
    }
   ],
   "source": [
    "sns.barplot(data=base, x='rArea', y='ry')"
   ]
  },
  {
   "cell_type": "markdown",
   "id": "6e7bb0f3-30a1-4715-a764-ebc4b4c26ba1",
   "metadata": {},
   "source": [
    "## Grafico de histograma"
   ]
  },
  {
   "cell_type": "code",
   "execution_count": 23,
   "id": "d186d9b6-d23c-4cce-b6ad-00bc0f6f7eaa",
   "metadata": {},
   "outputs": [
    {
     "data": {
      "text/plain": [
       "<AxesSubplot: xlabel='ry', ylabel='Count'>"
      ]
     },
     "execution_count": 23,
     "metadata": {},
     "output_type": "execute_result"
    },
    {
     "data": {
      "image/png": "[encoded data removed]",
      "text/plain": [
       "<Figure size 640x480 with 1 Axes>"
      ]
     },
     "metadata": {},
     "output_type": "display_data"
    }
   ],
   "source": [
    "sns.histplot(base, x='ry')"
   ]
  },
  {
   "cell_type": "code",
   "execution_count": 29,
   "id": "7b07d7a0-e4a5-4626-ba44-af2d6808cdcd",
   "metadata": {},
   "outputs": [
    {
     "data": {
      "text/plain": [
       "<AxesSubplot: xlabel='ry', ylabel='Count'>"
      ]
     },
     "execution_count": 29,
     "metadata": {},
     "output_type": "execute_result"
    },
    {
     "data": {
      "image/png": "[encoded data removed]",
      "text/plain": [
       "<Figure size 640x480 with 1 Axes>"
      ]
     },
     "metadata": {},
     "output_type": "display_data"
    }
   ],
   "source": [
    "# Se puede especificar el numero de bins\n",
    "sns.histplot(base, x='ry', binwidth=300)"
   ]
  },
  {
   "cell_type": "markdown",
   "id": "db10f877-dc19-4ade-ac6a-44f5caadae80",
   "metadata": {},
   "source": [
    "# Exportar informacion "
   ]
  },
  {
   "cell_type": "code",
   "execution_count": null,
   "id": "be1ebebf-9ccd-462a-bf6c-258286c3ddc5",
   "metadata": {},
   "outputs": [],
   "source": [
    "# Exportar hacia excel\n",
    "data.to_excel('BD_filtrada.xlsx')"
   ]
  },
  {
   "cell_type": "code",
   "execution_count": null,
   "id": "2fa24a63-cf50-4b8a-8d10-ff920946bda4",
   "metadata": {},
   "outputs": [],
   "source": [
    "# Exportar hacia csv\n",
    "data.to_csv('BD_filtrada.csv')"
   ]
  }
 ],
 "metadata": {
  "kernelspec": {
   "display_name": "Python 3 (ipykernel)",
   "language": "python",
   "name": "python3"
  },
  "language_info": {
   "codemirror_mode": {
    "name": "ipython",
    "version": 3
   },
   "file_extension": ".py",
   "mimetype": "text/x-python",
   "name": "python",
   "nbconvert_exporter": "python",
   "pygments_lexer": "ipython3",
   "version": "3.10.8"
  },
  "toc-autonumbering": true
 },
 "nbformat": 4,
 "nbformat_minor": 5
}
